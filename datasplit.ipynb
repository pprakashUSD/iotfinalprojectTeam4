{
 "cells": [
  {
   "cell_type": "code",
   "execution_count": 1,
   "metadata": {},
   "outputs": [],
   "source": [
    "import os\n",
    "from os.path import exists\n",
    "import ecg_plot\n",
    "from pathlib import Path\n",
    "import pandas as pd\n",
    "import math\n",
    "import scipy\n",
    "\n",
    "#standard imports"
   ]
  },
  {
   "cell_type": "code",
   "execution_count": 2,
   "metadata": {},
   "outputs": [
    {
     "name": "stdout",
     "output_type": "stream",
     "text": [
      "/home/bear/prakash/iot/finalproject/epicardially-attached-cardiac-accelerometer-data-from-canines-and-porcines-1.0.0/accelerometer_data\n",
      "\u001b[0m\u001b[01;34mAP\u001b[0m/  \u001b[01;34mMKCMS\u001b[0m/  \u001b[01;34mMV\u001b[0m/                       consolidated_ep_data.csv.old\r\n",
      "\u001b[01;34mMK\u001b[0m/  \u001b[01;34mMP\u001b[0m/     consolidated_ep_data.csv\r\n"
     ]
    }
   ],
   "source": [
    "#path = '/Users/prakashperimbeti/desktop/AAI-USD/AAI-530/finalproject/epicardially-attached-cardiac-accelerometer-data-from-canines-and-porcines-1.0.0/accelerometer_data'\n",
    "path = './prakash/iot/finalproject/.'\n",
    "\n",
    "#%cd /Users/prakashperimbeti/desktop/AAI-USD/AAI-530/finalproject/epicardially-attached-cardiac-accelerometer-data-from-canines-and-porcines-1.0.0/accelerometer_data\n",
    "%cd /home/bear/prakash/iot/finalproject/epicardially-attached-cardiac-accelerometer-data-from-canines-and-porcines-1.0.0/accelerometer_data\n",
    "%ls\n"
   ]
  },
  {
   "cell_type": "code",
   "execution_count": 3,
   "metadata": {},
   "outputs": [],
   "source": [
    "dfFinal = pd.read_csv(\"./consolidated_ep_data.csv\")"
   ]
  },
  {
   "cell_type": "code",
   "execution_count": 4,
   "metadata": {},
   "outputs": [
    {
     "data": {
      "text/html": [
       "<div>\n",
       "<style scoped>\n",
       "    .dataframe tbody tr th:only-of-type {\n",
       "        vertical-align: middle;\n",
       "    }\n",
       "\n",
       "    .dataframe tbody tr th {\n",
       "        vertical-align: top;\n",
       "    }\n",
       "\n",
       "    .dataframe thead th {\n",
       "        text-align: right;\n",
       "    }\n",
       "</style>\n",
       "<table border=\"1\" class=\"dataframe\">\n",
       "  <thead>\n",
       "    <tr style=\"text-align: right;\">\n",
       "      <th></th>\n",
       "      <th>Unnamed: 0</th>\n",
       "      <th>experiment_name</th>\n",
       "      <th>animal_species</th>\n",
       "      <th>sample_rate</th>\n",
       "      <th>intervention</th>\n",
       "      <th>identifier</th>\n",
       "      <th>acc_x</th>\n",
       "      <th>acc_y</th>\n",
       "      <th>acc_z</th>\n",
       "      <th>lvp</th>\n",
       "      <th>ecg</th>\n",
       "      <th>magnitude</th>\n",
       "      <th>velocity</th>\n",
       "      <th>timesecs</th>\n",
       "      <th>contractility</th>\n",
       "    </tr>\n",
       "  </thead>\n",
       "  <tbody>\n",
       "    <tr>\n",
       "      <th>0</th>\n",
       "      <td>0</td>\n",
       "      <td>MV</td>\n",
       "      <td>dog</td>\n",
       "      <td>500</td>\n",
       "      <td>lbbb</td>\n",
       "      <td>MV08</td>\n",
       "      <td>-0.014169</td>\n",
       "      <td>0.055911</td>\n",
       "      <td>0.018978</td>\n",
       "      <td>86.968797</td>\n",
       "      <td>0.0</td>\n",
       "      <td>0.060720</td>\n",
       "      <td>0.000122</td>\n",
       "      <td>0.002</td>\n",
       "      <td>0.173863</td>\n",
       "    </tr>\n",
       "    <tr>\n",
       "      <th>1</th>\n",
       "      <td>1</td>\n",
       "      <td>MV</td>\n",
       "      <td>dog</td>\n",
       "      <td>500</td>\n",
       "      <td>lbbb</td>\n",
       "      <td>MV08</td>\n",
       "      <td>-0.036816</td>\n",
       "      <td>0.050606</td>\n",
       "      <td>0.011420</td>\n",
       "      <td>86.894406</td>\n",
       "      <td>0.0</td>\n",
       "      <td>0.063614</td>\n",
       "      <td>0.000110</td>\n",
       "      <td>0.004</td>\n",
       "      <td>0.173737</td>\n",
       "    </tr>\n",
       "    <tr>\n",
       "      <th>2</th>\n",
       "      <td>2</td>\n",
       "      <td>MV</td>\n",
       "      <td>dog</td>\n",
       "      <td>500</td>\n",
       "      <td>lbbb</td>\n",
       "      <td>MV08</td>\n",
       "      <td>-0.007562</td>\n",
       "      <td>0.040831</td>\n",
       "      <td>0.030928</td>\n",
       "      <td>86.842333</td>\n",
       "      <td>0.0</td>\n",
       "      <td>0.051777</td>\n",
       "      <td>0.000123</td>\n",
       "      <td>0.006</td>\n",
       "      <td>0.173684</td>\n",
       "    </tr>\n",
       "    <tr>\n",
       "      <th>3</th>\n",
       "      <td>3</td>\n",
       "      <td>MV</td>\n",
       "      <td>dog</td>\n",
       "      <td>500</td>\n",
       "      <td>lbbb</td>\n",
       "      <td>MV08</td>\n",
       "      <td>-0.008412</td>\n",
       "      <td>0.059479</td>\n",
       "      <td>0.038937</td>\n",
       "      <td>86.841875</td>\n",
       "      <td>0.0</td>\n",
       "      <td>0.071587</td>\n",
       "      <td>0.000139</td>\n",
       "      <td>0.008</td>\n",
       "      <td>0.173705</td>\n",
       "    </tr>\n",
       "    <tr>\n",
       "      <th>4</th>\n",
       "      <td>4</td>\n",
       "      <td>MV</td>\n",
       "      <td>dog</td>\n",
       "      <td>500</td>\n",
       "      <td>lbbb</td>\n",
       "      <td>MV08</td>\n",
       "      <td>-0.014211</td>\n",
       "      <td>0.061281</td>\n",
       "      <td>0.025151</td>\n",
       "      <td>86.863166</td>\n",
       "      <td>0.0</td>\n",
       "      <td>0.067749</td>\n",
       "      <td>0.000122</td>\n",
       "      <td>0.010</td>\n",
       "      <td>0.173730</td>\n",
       "    </tr>\n",
       "    <tr>\n",
       "      <th>5</th>\n",
       "      <td>5</td>\n",
       "      <td>MV</td>\n",
       "      <td>dog</td>\n",
       "      <td>500</td>\n",
       "      <td>lbbb</td>\n",
       "      <td>MV08</td>\n",
       "      <td>-0.014222</td>\n",
       "      <td>0.051507</td>\n",
       "      <td>0.012243</td>\n",
       "      <td>86.867292</td>\n",
       "      <td>0.0</td>\n",
       "      <td>0.054819</td>\n",
       "      <td>0.000106</td>\n",
       "      <td>0.012</td>\n",
       "      <td>0.173712</td>\n",
       "    </tr>\n",
       "    <tr>\n",
       "      <th>6</th>\n",
       "      <td>6</td>\n",
       "      <td>MV</td>\n",
       "      <td>dog</td>\n",
       "      <td>500</td>\n",
       "      <td>lbbb</td>\n",
       "      <td>MV08</td>\n",
       "      <td>-0.014233</td>\n",
       "      <td>0.048178</td>\n",
       "      <td>0.008894</td>\n",
       "      <td>86.844854</td>\n",
       "      <td>0.0</td>\n",
       "      <td>0.051018</td>\n",
       "      <td>0.000111</td>\n",
       "      <td>0.014</td>\n",
       "      <td>0.173713</td>\n",
       "    </tr>\n",
       "    <tr>\n",
       "      <th>7</th>\n",
       "      <td>7</td>\n",
       "      <td>MV</td>\n",
       "      <td>dog</td>\n",
       "      <td>500</td>\n",
       "      <td>lbbb</td>\n",
       "      <td>MV08</td>\n",
       "      <td>-0.026697</td>\n",
       "      <td>0.054411</td>\n",
       "      <td>0.002653</td>\n",
       "      <td>86.867926</td>\n",
       "      <td>0.0</td>\n",
       "      <td>0.060665</td>\n",
       "      <td>0.000097</td>\n",
       "      <td>0.016</td>\n",
       "      <td>0.173818</td>\n",
       "    </tr>\n",
       "    <tr>\n",
       "      <th>8</th>\n",
       "      <td>8</td>\n",
       "      <td>MV</td>\n",
       "      <td>dog</td>\n",
       "      <td>500</td>\n",
       "      <td>lbbb</td>\n",
       "      <td>MV08</td>\n",
       "      <td>-0.010227</td>\n",
       "      <td>0.034163</td>\n",
       "      <td>0.010878</td>\n",
       "      <td>86.950069</td>\n",
       "      <td>0.0</td>\n",
       "      <td>0.037283</td>\n",
       "      <td>0.000083</td>\n",
       "      <td>0.018</td>\n",
       "      <td>0.173911</td>\n",
       "    </tr>\n",
       "    <tr>\n",
       "      <th>9</th>\n",
       "      <td>9</td>\n",
       "      <td>MV</td>\n",
       "      <td>dog</td>\n",
       "      <td>500</td>\n",
       "      <td>lbbb</td>\n",
       "      <td>MV08</td>\n",
       "      <td>0.011522</td>\n",
       "      <td>0.041344</td>\n",
       "      <td>0.024636</td>\n",
       "      <td>86.961277</td>\n",
       "      <td>0.0</td>\n",
       "      <td>0.049487</td>\n",
       "      <td>0.000099</td>\n",
       "      <td>0.020</td>\n",
       "      <td>0.173852</td>\n",
       "    </tr>\n",
       "  </tbody>\n",
       "</table>\n",
       "</div>"
      ],
      "text/plain": [
       "   Unnamed: 0 experiment_name animal_species  sample_rate intervention  \\\n",
       "0           0              MV            dog          500         lbbb   \n",
       "1           1              MV            dog          500         lbbb   \n",
       "2           2              MV            dog          500         lbbb   \n",
       "3           3              MV            dog          500         lbbb   \n",
       "4           4              MV            dog          500         lbbb   \n",
       "5           5              MV            dog          500         lbbb   \n",
       "6           6              MV            dog          500         lbbb   \n",
       "7           7              MV            dog          500         lbbb   \n",
       "8           8              MV            dog          500         lbbb   \n",
       "9           9              MV            dog          500         lbbb   \n",
       "\n",
       "  identifier     acc_x     acc_y     acc_z        lvp  ecg  magnitude  \\\n",
       "0       MV08 -0.014169  0.055911  0.018978  86.968797  0.0   0.060720   \n",
       "1       MV08 -0.036816  0.050606  0.011420  86.894406  0.0   0.063614   \n",
       "2       MV08 -0.007562  0.040831  0.030928  86.842333  0.0   0.051777   \n",
       "3       MV08 -0.008412  0.059479  0.038937  86.841875  0.0   0.071587   \n",
       "4       MV08 -0.014211  0.061281  0.025151  86.863166  0.0   0.067749   \n",
       "5       MV08 -0.014222  0.051507  0.012243  86.867292  0.0   0.054819   \n",
       "6       MV08 -0.014233  0.048178  0.008894  86.844854  0.0   0.051018   \n",
       "7       MV08 -0.026697  0.054411  0.002653  86.867926  0.0   0.060665   \n",
       "8       MV08 -0.010227  0.034163  0.010878  86.950069  0.0   0.037283   \n",
       "9       MV08  0.011522  0.041344  0.024636  86.961277  0.0   0.049487   \n",
       "\n",
       "   velocity  timesecs  contractility  \n",
       "0  0.000122     0.002       0.173863  \n",
       "1  0.000110     0.004       0.173737  \n",
       "2  0.000123     0.006       0.173684  \n",
       "3  0.000139     0.008       0.173705  \n",
       "4  0.000122     0.010       0.173730  \n",
       "5  0.000106     0.012       0.173712  \n",
       "6  0.000111     0.014       0.173713  \n",
       "7  0.000097     0.016       0.173818  \n",
       "8  0.000083     0.018       0.173911  \n",
       "9  0.000099     0.020       0.173852  "
      ]
     },
     "execution_count": 4,
     "metadata": {},
     "output_type": "execute_result"
    }
   ],
   "source": [
    "dfFinal.head(10)"
   ]
  },
  {
   "cell_type": "code",
   "execution_count": 5,
   "metadata": {},
   "outputs": [
    {
     "name": "stdout",
     "output_type": "stream",
     "text": [
      "<class 'pandas.core.frame.DataFrame'>\n",
      "RangeIndex: 3614763 entries, 0 to 3614762\n",
      "Data columns (total 15 columns):\n",
      " #   Column           Dtype  \n",
      "---  ------           -----  \n",
      " 0   Unnamed: 0       int64  \n",
      " 1   experiment_name  object \n",
      " 2   animal_species   object \n",
      " 3   sample_rate      int64  \n",
      " 4   intervention     object \n",
      " 5   identifier       object \n",
      " 6   acc_x            float64\n",
      " 7   acc_y            float64\n",
      " 8   acc_z            float64\n",
      " 9   lvp              float64\n",
      " 10  ecg              float64\n",
      " 11  magnitude        float64\n",
      " 12  velocity         float64\n",
      " 13  timesecs         float64\n",
      " 14  contractility    float64\n",
      "dtypes: float64(9), int64(2), object(4)\n",
      "memory usage: 413.7+ MB\n",
      "None\n"
     ]
    }
   ],
   "source": [
    "print(dfFinal.info())"
   ]
  },
  {
   "cell_type": "code",
   "execution_count": 7,
   "metadata": {},
   "outputs": [
    {
     "name": "stdout",
     "output_type": "stream",
     "text": [
      "46\n",
      "16\n"
     ]
    }
   ],
   "source": [
    "print(dfFinal['identifier'].nunique())\n",
    "print(dfFinal['intervention'].nunique())"
   ]
  },
  {
   "cell_type": "code",
   "execution_count": 8,
   "metadata": {},
   "outputs": [
    {
     "name": "stdout",
     "output_type": "stream",
     "text": [
      "['MV08' 'MV17' 'MV13' 'MV06' 'MV20' 'MV19' 'MV23' 'MV21' 'MV18' 'MV09'\n",
      " 'MV22' 'MV10' 'MV12' 'MV14' 'MV15' 'MV07' 'MP203' 'MP216' 'MP215' 'MP217'\n",
      " 'MP204' 'MP208' 'MK22' 'MK21' 'MK23' 'AP107' 'AP109' 'AP111' 'AP105'\n",
      " 'AP112' 'AP116' 'AP114' 'AP110' 'AP108' 'AP106' 'MKCMS05' 'MKCMS11'\n",
      " 'MKCMS15' 'MKCMS08' 'MKCMS12' 'MKCMS07' 'MKCMS14' 'MKCMS13' 'MKCMS06'\n",
      " 'MKCMS09' 'MKCMS04']\n",
      "['lbbb' 'rvp' 'crt' 'baseline' 'lbbbloading' 'dobutamine' 'lbbbdob'\n",
      " 'ischemia' 'niprid' 'esmolol' 'adrenaline' 'loading' 'lbbbisc'\n",
      " 'unloading' 'baseline(cc)' 'ischemiadob']\n"
     ]
    }
   ],
   "source": [
    "print(dfFinal['identifier'].unique())\n",
    "print(dfFinal['intervention'].unique())"
   ]
  },
  {
   "cell_type": "code",
   "execution_count": 10,
   "metadata": {},
   "outputs": [
    {
     "name": "stdout",
     "output_type": "stream",
     "text": [
      "(107179, 15)\n",
      "(44796, 15)\n",
      "(89592, 15)\n",
      "(74007, 15)\n",
      "(315574, 15)\n"
     ]
    }
   ],
   "source": [
    "dfTest1 = dfFinal.loc[dfFinal['identifier'] == 'MV08']\n",
    "print(dfTest1.shape)\n",
    "dfTest2 = dfFinal.loc[dfFinal['identifier'] == 'MP217']\n",
    "print(dfTest2.shape)\n",
    "dfTest3 = dfFinal.loc[dfFinal['identifier'] == 'AP107']\n",
    "print(dfTest3.shape)\n",
    "dfTest4 = dfFinal.loc[dfFinal['identifier'] == 'MKCMS06']\n",
    "print(dfTest4.shape)\n",
    "dfTest = pd.concat([dfTest1, dfTest2, dfTest3, dfTest4], ignore_index=True)\n",
    "print(dfTest.shape)"
   ]
  },
  {
   "cell_type": "code",
   "execution_count": 11,
   "metadata": {},
   "outputs": [
    {
     "name": "stdout",
     "output_type": "stream",
     "text": [
      "(71168, 15)\n",
      "(89592, 15)\n",
      "(89592, 15)\n",
      "(41470, 15)\n",
      "(291822, 15)\n"
     ]
    }
   ],
   "source": [
    "# 10% Test, Val 20% and Train 70%\n",
    "#Val samples\n",
    "dfVal1 = dfFinal.loc[dfFinal['identifier'] == 'MV17']\n",
    "print(dfVal1.shape)\n",
    "dfVal2 = dfFinal.loc[dfFinal['identifier'] == 'MP215']\n",
    "print(dfVal2.shape)\n",
    "dfVal3 = dfFinal.loc[dfFinal['identifier'] == 'AP109']\n",
    "print(dfVal3.shape)\n",
    "dfVal8 = dfFinal.loc[dfFinal['identifier'] == 'MKCMS07']\n",
    "print(dfVal8.shape)\n",
    "dfVal = pd.concat([dfVal1, dfVal2, dfVal3, dfVal8], ignore_index=True)\n",
    "print(dfVal.shape)"
   ]
  },
  {
   "cell_type": "code",
   "execution_count": 16,
   "metadata": {},
   "outputs": [],
   "source": [
    "# 10% Test, Val 20% and Train 70%\n",
    "def splitData(df, names):\n",
    "    i = 0\n",
    "    dfRet = pd.DataFrame()\n",
    "    for name in names:\n",
    "        tp = df.loc[df['identifier'] == name]\n",
    "        #print(i, name, tp.shape)\n",
    "        dfRet = pd.concat([dfRet, tp], ignore_index=True)\n",
    "        i = i+1\n",
    "    print(dfRet.shape)\n",
    "    return dfRet\n"
   ]
  },
  {
   "cell_type": "code",
   "execution_count": 18,
   "metadata": {},
   "outputs": [
    {
     "name": "stdout",
     "output_type": "stream",
     "text": [
      "(2618470, 15)\n",
      "(594411, 15)\n",
      "(329722, 15)\n",
      "(2618470, 15)\n",
      "(594411, 15)\n",
      "(329722, 15)\n"
     ]
    }
   ],
   "source": [
    "#Test samples\n",
    "valNames = ['MV08', 'MV17', 'MP216', 'MP217', 'AP107', \n",
    "            'AP111','MKCMS06', 'MKCMS09']\n",
    "testNames = ['MV13', 'MP215', 'AP109', 'MKCMS07']\n",
    "trainNames = ['MV06', 'MV20', 'MV19', 'MV23', 'MV21', 'MV18', 'MV09',\n",
    "             'MV22', 'MV10', 'MV12', 'MV14', 'MV15', 'MV07', 'MP203' \n",
    "             'MP204', 'MP208', 'MK22', 'MK21', 'MK23', 'AP105',\n",
    "             'AP112', 'AP116', 'AP114', 'AP110', 'AP108', 'AP106',\n",
    "             'MKCMS05', 'MKCMS11', 'MKCMS15', 'MKCMS08', 'MKCMS12',\n",
    "              'MKCMS14', 'MKCMS13', 'MKCMS04']\n",
    "dfTrain = splitData(dfFinal, trainNames)\n",
    "dfVal = splitData(dfFinal, valNames)\n",
    "dfTest = splitData(dfFinal, testNames)\n",
    "print(dfTrain.shape)\n",
    "print(dfVal.shape)\n",
    "print(dfTest.shape)"
   ]
  },
  {
   "cell_type": "code",
   "execution_count": 19,
   "metadata": {},
   "outputs": [],
   "source": [
    "dfTrain.to_csv('./consolidated_ep_train.csv')\n",
    "dfVal.to_csv('./consolidated_ep_val.csv')\n",
    "dfTest.to_csv('./consolidated_ep_test.csv')"
   ]
  },
  {
   "cell_type": "code",
   "execution_count": 22,
   "metadata": {},
   "outputs": [],
   "source": [
    "#dfTest4 = dfFinal.loc[dfFinal['identifier'] == 'MV08' |  dfFinal['identifier'] == 'MP217']\n",
    "#print(dfTest4.shape)\n"
   ]
  }
 ],
 "metadata": {
  "kernelspec": {
   "display_name": "Python 3 (ipykernel)",
   "language": "python",
   "name": "python3"
  },
  "language_info": {
   "codemirror_mode": {
    "name": "ipython",
    "version": 3
   },
   "file_extension": ".py",
   "mimetype": "text/x-python",
   "name": "python",
   "nbconvert_exporter": "python",
   "pygments_lexer": "ipython3",
   "version": "3.10.6"
  }
 },
 "nbformat": 4,
 "nbformat_minor": 4
}
